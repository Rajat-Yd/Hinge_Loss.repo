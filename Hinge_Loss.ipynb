{
  "metadata": {
    "kernelspec": {
      "display_name": "Python 3",
      "language": "python",
      "name": "python3"
    },
    "language_info": {
      "codemirror_mode": {
        "name": "ipython",
        "version": 3
      },
      "file_extension": ".py",
      "mimetype": "text/x-python",
      "name": "python",
      "nbconvert_exporter": "python",
      "pygments_lexer": "ipython3",
      "version": "3.8.8"
    },
    "kaggle": {
      "accelerator": "none",
      "dataSources": [],
      "dockerImageVersionId": 30684,
      "isInternetEnabled": true,
      "language": "python",
      "sourceType": "notebook",
      "isGpuEnabled": false
    },
    "colab": {
      "name": "Hinge_Loss",
      "provenance": []
    }
  },
  "nbformat_minor": 5,
  "nbformat": 4,
  "cells": [
    {
      "cell_type": "code",
      "source": [
        "from sklearn.datasets import make_classification\n",
        "import numpy as np\n",
        "X, y = make_classification(n_samples=100, n_features=2, n_informative=1,n_redundant=0,\n",
        "                           n_classes=2, n_clusters_per_class=1, random_state=41,hypercube=False,class_sep=15)"
      ],
      "metadata": {
        "id": "DMSIzCFuR7gt"
      },
      "execution_count": null,
      "outputs": [],
      "id": "DMSIzCFuR7gt"
    },
    {
      "cell_type": "code",
      "source": [
        "X.shape"
      ],
      "metadata": {
        "id": "OVpB76V3R7gz"
      },
      "execution_count": null,
      "outputs": [],
      "id": "OVpB76V3R7gz"
    },
    {
      "cell_type": "code",
      "source": [
        "y.shape"
      ],
      "metadata": {
        "id": "Knn8R3qHR7g1"
      },
      "execution_count": null,
      "outputs": [],
      "id": "Knn8R3qHR7g1"
    },
    {
      "cell_type": "code",
      "source": [
        "import matplotlib.pyplot as plt\n",
        "plt.figure(figsize=(10,6))\n",
        "plt.scatter(X[:,0],X[:,1],c=y,cmap='winter',s=100)"
      ],
      "metadata": {
        "id": "zTFleTuTR7g2"
      },
      "execution_count": null,
      "outputs": [],
      "id": "zTFleTuTR7g2"
    },
    {
      "cell_type": "code",
      "source": [
        "def perceptron(X,y):\n",
        "\n",
        "    w1=w2=b=1\n",
        "    lr = 0.1\n",
        "\n",
        "    for j in range(1000):\n",
        "\n",
        "        for i in range(X.shape[0]):\n",
        "\n",
        "            # check condition\n",
        "            z = w1*X[i][0] + w2*X[i][1] + b\n",
        "\n",
        "            if z*y[i] < 0:\n",
        "                w1 = w1 + lr*y[i]*X[i][0]\n",
        "                w2 = w2 + lr*y[i]*X[i][1]\n",
        "                b = b + lr*y[i]\n",
        "\n",
        "    return w1,w2,b\n",
        "\n",
        ""
      ],
      "metadata": {
        "id": "57tOP_0eR7g5"
      },
      "execution_count": null,
      "outputs": [],
      "id": "57tOP_0eR7g5"
    },
    {
      "cell_type": "code",
      "source": [
        "w1,w2,b = perceptron(X,y)"
      ],
      "metadata": {
        "id": "de3Xr_vJR7g6"
      },
      "execution_count": null,
      "outputs": [],
      "id": "de3Xr_vJR7g6"
    },
    {
      "cell_type": "code",
      "source": [
        "b"
      ],
      "metadata": {
        "id": "h4-ZoKvsR7g7"
      },
      "execution_count": null,
      "outputs": [],
      "id": "h4-ZoKvsR7g7"
    },
    {
      "cell_type": "code",
      "source": [
        "m = -(w1/w2)\n",
        "c = -(b/w2)\n",
        "\n",
        "print(m,c)"
      ],
      "metadata": {
        "id": "RcqHcLPHR7g7"
      },
      "execution_count": null,
      "outputs": [],
      "id": "RcqHcLPHR7g7"
    },
    {
      "cell_type": "code",
      "source": [
        "x_input = np.linspace(-3,3,100)\n",
        "y_input = m*x_input + c\n",
        "\n",
        "plt.figure(figsize=(10,6))\n",
        "plt.plot(x_input,y_input,color='red',linewidth=3)\n",
        "plt.scatter(X[:,0],X[:,1],c=y,cmap='winter',s=100)\n",
        "plt.ylim(-3,2)"
      ],
      "metadata": {
        "id": "OVLIVypOR7g8"
      },
      "execution_count": null,
      "outputs": [],
      "id": "OVLIVypOR7g8"
    },
    {
      "cell_type": "code",
      "source": [],
      "metadata": {
        "id": "XMVL5reZR7g9"
      },
      "execution_count": null,
      "outputs": [],
      "id": "XMVL5reZR7g9"
    }
  ]
}